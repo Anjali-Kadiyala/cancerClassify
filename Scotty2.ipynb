{
  "cells": [
    {
      "cell_type": "markdown",
      "metadata": {
        "id": "view-in-github",
        "colab_type": "text"
      },
      "source": [
        "<a href=\"https://colab.research.google.com/github/Anjali-Kadiyala/cancerClassify/blob/main/Scotty2.ipynb\" target=\"_parent\"><img src=\"https://colab.research.google.com/assets/colab-badge.svg\" alt=\"Open In Colab\"/></a>"
      ]
    },
    {
      "cell_type": "markdown",
      "metadata": {
        "id": "Zq4YcuB_ENcV"
      },
      "source": [
        "# Download data\n",
        "\n",
        "roughly 1 minute 30 sec to run all"
      ]
    },
    {
      "cell_type": "code",
      "execution_count": 1,
      "metadata": {
        "colab": {
          "base_uri": "https://localhost:8080/"
        },
        "id": "ZzNBzKtXC7am",
        "outputId": "268e61cf-7323-408f-f02b-27ad916de5d3"
      },
      "outputs": [
        {
          "output_type": "stream",
          "name": "stdout",
          "text": [
            "mkdir: cannot create directory ‘/root/.kaggle’: File exists\n"
          ]
        }
      ],
      "source": [
        "!mkdir /root/.kaggle"
      ]
    },
    {
      "cell_type": "code",
      "execution_count": 2,
      "metadata": {
        "id": "vlaZPfHzBxNL"
      },
      "outputs": [],
      "source": [
        "!cp /content/drive/Shareddrives/cancerClassify_ML@SJSU/kaggle.json /root/.kaggle/kaggle.json"
      ]
    },
    {
      "cell_type": "code",
      "execution_count": 3,
      "metadata": {
        "colab": {
          "base_uri": "https://localhost:8080/"
        },
        "id": "bmpoFh3bC5E8",
        "outputId": "80fb0ba3-27f7-4163-b65e-166095448ea3"
      },
      "outputs": [
        {
          "output_type": "stream",
          "name": "stdout",
          "text": [
            "breast-histopathology-images.zip: Skipping, found more recently modified local copy (use --force to force download)\n"
          ]
        }
      ],
      "source": [
        "!kaggle datasets download -d paultimothymooney/breast-histopathology-images"
      ]
    },
    {
      "cell_type": "code",
      "execution_count": 4,
      "metadata": {
        "id": "v2wmF0M4DFCs"
      },
      "outputs": [],
      "source": [
        "from zipfile import ZipFile\n",
        "with ZipFile('/content/breast-histopathology-images.zip', 'r') as zipObj:\n",
        "    zipObj.extractall(\"data\")"
      ]
    },
    {
      "cell_type": "code",
      "execution_count": 5,
      "metadata": {
        "colab": {
          "base_uri": "https://localhost:8080/"
        },
        "id": "SoI8uIkAE7Nh",
        "outputId": "e05182b7-2226-4e6f-8c53-a8a374ab522d"
      },
      "outputs": [
        {
          "output_type": "execute_result",
          "data": {
            "text/plain": [
              "280"
            ]
          },
          "metadata": {},
          "execution_count": 5
        }
      ],
      "source": [
        "from os import listdir\n",
        "len(listdir('data'))"
      ]
    },
    {
      "cell_type": "markdown",
      "metadata": {
        "id": "QkKPeYMnE39I"
      },
      "source": [
        "IDC_regular_ps50_idx5 is the same data but all the images are regularized to be 50x50\n",
        "\n",
        "I think\n"
      ]
    },
    {
      "cell_type": "code",
      "execution_count": 6,
      "metadata": {
        "colab": {
          "base_uri": "https://localhost:8080/"
        },
        "id": "uhOE-NdeEKoY",
        "outputId": "9fc547a6-6520-4e4e-baff-9670dac7e0bb"
      },
      "outputs": [
        {
          "output_type": "stream",
          "name": "stderr",
          "text": [
            "100%|██████████| 279/279 [00:00<00:00, 1259.38it/s]\n"
          ]
        },
        {
          "output_type": "execute_result",
          "data": {
            "text/plain": [
              "(277524, 277524, 277524)"
            ]
          },
          "metadata": {},
          "execution_count": 6
        }
      ],
      "source": [
        "from tqdm import tqdm\n",
        "\n",
        "images  = []\n",
        "targets = []\n",
        "pids    = []\n",
        "\n",
        "\n",
        "base_path = '/content/data/IDC_regular_ps50_idx5'\n",
        "patients = listdir(base_path)\n",
        "for pat in tqdm(patients):\n",
        "    for c in [0, 1]:\n",
        "        fold = f'{base_path}/{pat}/{c}/'\n",
        "        imgs = listdir(fold)\n",
        "        images += [fold + img for img in imgs]\n",
        "        targets += [c]*len(imgs)\n",
        "        pids += [pat]*len(imgs)\n",
        "len(images), len(targets), len(pids)"
      ]
    },
    {
      "cell_type": "code",
      "execution_count": 7,
      "metadata": {
        "colab": {
          "base_uri": "https://localhost:8080/",
          "height": 363
        },
        "id": "t0l-Xd4VLtte",
        "outputId": "9578b1ca-a43a-44b4-9f39-83480562eaf3"
      },
      "outputs": [
        {
          "output_type": "execute_result",
          "data": {
            "text/plain": [
              "       Patient                                              Image  Target\n",
              "183608   12751  /content/data/IDC_regular_ps50_idx5/12751/0/12...       0\n",
              "171423    9177  /content/data/IDC_regular_ps50_idx5/9177/1/917...       1\n",
              "105259   12810  /content/data/IDC_regular_ps50_idx5/12810/0/12...       0\n",
              "104889   12810  /content/data/IDC_regular_ps50_idx5/12810/0/12...       0\n",
              "98053    13460  /content/data/IDC_regular_ps50_idx5/13460/0/13...       0\n",
              "58535    10295  /content/data/IDC_regular_ps50_idx5/10295/0/10...       0\n",
              "239354   12749  /content/data/IDC_regular_ps50_idx5/12749/1/12...       1\n",
              "64598    12880  /content/data/IDC_regular_ps50_idx5/12880/0/12...       0\n",
              "250538    9077  /content/data/IDC_regular_ps50_idx5/9077/1/907...       1\n",
              "97481     9258  /content/data/IDC_regular_ps50_idx5/9258/0/925...       0"
            ],
            "text/html": [
              "\n",
              "  <div id=\"df-720a3fef-59e6-4959-a38e-6d838bba9773\">\n",
              "    <div class=\"colab-df-container\">\n",
              "      <div>\n",
              "<style scoped>\n",
              "    .dataframe tbody tr th:only-of-type {\n",
              "        vertical-align: middle;\n",
              "    }\n",
              "\n",
              "    .dataframe tbody tr th {\n",
              "        vertical-align: top;\n",
              "    }\n",
              "\n",
              "    .dataframe thead th {\n",
              "        text-align: right;\n",
              "    }\n",
              "</style>\n",
              "<table border=\"1\" class=\"dataframe\">\n",
              "  <thead>\n",
              "    <tr style=\"text-align: right;\">\n",
              "      <th></th>\n",
              "      <th>Patient</th>\n",
              "      <th>Image</th>\n",
              "      <th>Target</th>\n",
              "    </tr>\n",
              "  </thead>\n",
              "  <tbody>\n",
              "    <tr>\n",
              "      <th>183608</th>\n",
              "      <td>12751</td>\n",
              "      <td>/content/data/IDC_regular_ps50_idx5/12751/0/12...</td>\n",
              "      <td>0</td>\n",
              "    </tr>\n",
              "    <tr>\n",
              "      <th>171423</th>\n",
              "      <td>9177</td>\n",
              "      <td>/content/data/IDC_regular_ps50_idx5/9177/1/917...</td>\n",
              "      <td>1</td>\n",
              "    </tr>\n",
              "    <tr>\n",
              "      <th>105259</th>\n",
              "      <td>12810</td>\n",
              "      <td>/content/data/IDC_regular_ps50_idx5/12810/0/12...</td>\n",
              "      <td>0</td>\n",
              "    </tr>\n",
              "    <tr>\n",
              "      <th>104889</th>\n",
              "      <td>12810</td>\n",
              "      <td>/content/data/IDC_regular_ps50_idx5/12810/0/12...</td>\n",
              "      <td>0</td>\n",
              "    </tr>\n",
              "    <tr>\n",
              "      <th>98053</th>\n",
              "      <td>13460</td>\n",
              "      <td>/content/data/IDC_regular_ps50_idx5/13460/0/13...</td>\n",
              "      <td>0</td>\n",
              "    </tr>\n",
              "    <tr>\n",
              "      <th>58535</th>\n",
              "      <td>10295</td>\n",
              "      <td>/content/data/IDC_regular_ps50_idx5/10295/0/10...</td>\n",
              "      <td>0</td>\n",
              "    </tr>\n",
              "    <tr>\n",
              "      <th>239354</th>\n",
              "      <td>12749</td>\n",
              "      <td>/content/data/IDC_regular_ps50_idx5/12749/1/12...</td>\n",
              "      <td>1</td>\n",
              "    </tr>\n",
              "    <tr>\n",
              "      <th>64598</th>\n",
              "      <td>12880</td>\n",
              "      <td>/content/data/IDC_regular_ps50_idx5/12880/0/12...</td>\n",
              "      <td>0</td>\n",
              "    </tr>\n",
              "    <tr>\n",
              "      <th>250538</th>\n",
              "      <td>9077</td>\n",
              "      <td>/content/data/IDC_regular_ps50_idx5/9077/1/907...</td>\n",
              "      <td>1</td>\n",
              "    </tr>\n",
              "    <tr>\n",
              "      <th>97481</th>\n",
              "      <td>9258</td>\n",
              "      <td>/content/data/IDC_regular_ps50_idx5/9258/0/925...</td>\n",
              "      <td>0</td>\n",
              "    </tr>\n",
              "  </tbody>\n",
              "</table>\n",
              "</div>\n",
              "      <button class=\"colab-df-convert\" onclick=\"convertToInteractive('df-720a3fef-59e6-4959-a38e-6d838bba9773')\"\n",
              "              title=\"Convert this dataframe to an interactive table.\"\n",
              "              style=\"display:none;\">\n",
              "        \n",
              "  <svg xmlns=\"http://www.w3.org/2000/svg\" height=\"24px\"viewBox=\"0 0 24 24\"\n",
              "       width=\"24px\">\n",
              "    <path d=\"M0 0h24v24H0V0z\" fill=\"none\"/>\n",
              "    <path d=\"M18.56 5.44l.94 2.06.94-2.06 2.06-.94-2.06-.94-.94-2.06-.94 2.06-2.06.94zm-11 1L8.5 8.5l.94-2.06 2.06-.94-2.06-.94L8.5 2.5l-.94 2.06-2.06.94zm10 10l.94 2.06.94-2.06 2.06-.94-2.06-.94-.94-2.06-.94 2.06-2.06.94z\"/><path d=\"M17.41 7.96l-1.37-1.37c-.4-.4-.92-.59-1.43-.59-.52 0-1.04.2-1.43.59L10.3 9.45l-7.72 7.72c-.78.78-.78 2.05 0 2.83L4 21.41c.39.39.9.59 1.41.59.51 0 1.02-.2 1.41-.59l7.78-7.78 2.81-2.81c.8-.78.8-2.07 0-2.86zM5.41 20L4 18.59l7.72-7.72 1.47 1.35L5.41 20z\"/>\n",
              "  </svg>\n",
              "      </button>\n",
              "      \n",
              "  <style>\n",
              "    .colab-df-container {\n",
              "      display:flex;\n",
              "      flex-wrap:wrap;\n",
              "      gap: 12px;\n",
              "    }\n",
              "\n",
              "    .colab-df-convert {\n",
              "      background-color: #E8F0FE;\n",
              "      border: none;\n",
              "      border-radius: 50%;\n",
              "      cursor: pointer;\n",
              "      display: none;\n",
              "      fill: #1967D2;\n",
              "      height: 32px;\n",
              "      padding: 0 0 0 0;\n",
              "      width: 32px;\n",
              "    }\n",
              "\n",
              "    .colab-df-convert:hover {\n",
              "      background-color: #E2EBFA;\n",
              "      box-shadow: 0px 1px 2px rgba(60, 64, 67, 0.3), 0px 1px 3px 1px rgba(60, 64, 67, 0.15);\n",
              "      fill: #174EA6;\n",
              "    }\n",
              "\n",
              "    [theme=dark] .colab-df-convert {\n",
              "      background-color: #3B4455;\n",
              "      fill: #D2E3FC;\n",
              "    }\n",
              "\n",
              "    [theme=dark] .colab-df-convert:hover {\n",
              "      background-color: #434B5C;\n",
              "      box-shadow: 0px 1px 3px 1px rgba(0, 0, 0, 0.15);\n",
              "      filter: drop-shadow(0px 1px 2px rgba(0, 0, 0, 0.3));\n",
              "      fill: #FFFFFF;\n",
              "    }\n",
              "  </style>\n",
              "\n",
              "      <script>\n",
              "        const buttonEl =\n",
              "          document.querySelector('#df-720a3fef-59e6-4959-a38e-6d838bba9773 button.colab-df-convert');\n",
              "        buttonEl.style.display =\n",
              "          google.colab.kernel.accessAllowed ? 'block' : 'none';\n",
              "\n",
              "        async function convertToInteractive(key) {\n",
              "          const element = document.querySelector('#df-720a3fef-59e6-4959-a38e-6d838bba9773');\n",
              "          const dataTable =\n",
              "            await google.colab.kernel.invokeFunction('convertToInteractive',\n",
              "                                                     [key], {});\n",
              "          if (!dataTable) return;\n",
              "\n",
              "          const docLinkHtml = 'Like what you see? Visit the ' +\n",
              "            '<a target=\"_blank\" href=https://colab.research.google.com/notebooks/data_table.ipynb>data table notebook</a>'\n",
              "            + ' to learn more about interactive tables.';\n",
              "          element.innerHTML = '';\n",
              "          dataTable['output_type'] = 'display_data';\n",
              "          await google.colab.output.renderOutput(dataTable, element);\n",
              "          const docLink = document.createElement('div');\n",
              "          docLink.innerHTML = docLinkHtml;\n",
              "          element.appendChild(docLink);\n",
              "        }\n",
              "      </script>\n",
              "    </div>\n",
              "  </div>\n",
              "  "
            ]
          },
          "metadata": {},
          "execution_count": 7
        }
      ],
      "source": [
        "import pandas as pd\n",
        "\n",
        "df = pd.DataFrame({\n",
        "    'Patient': pids,\n",
        "    'Image': images,\n",
        "    'Target': targets\n",
        "})\n",
        "df.sample(10)"
      ]
    },
    {
      "cell_type": "markdown",
      "metadata": {
        "id": "u94fGJeCSg_K"
      },
      "source": [
        "# Dataset Exploration"
      ]
    },
    {
      "cell_type": "code",
      "execution_count": 8,
      "metadata": {
        "id": "VgY1R5a0Slhf"
      },
      "outputs": [],
      "source": [
        "import matplotlib.pyplot as plt\n"
      ]
    },
    {
      "cell_type": "code",
      "execution_count": 9,
      "metadata": {
        "colab": {
          "base_uri": "https://localhost:8080/",
          "height": 282
        },
        "id": "FqcKokulRmXZ",
        "outputId": "ca132792-e074-4308-ebd0-0d9cbce872e4"
      },
      "outputs": [
        {
          "output_type": "execute_result",
          "data": {
            "text/plain": [
              "Text(0.5, 1.0, 'Cancerous vs Benign samples')"
            ]
          },
          "metadata": {},
          "execution_count": 9
        },
        {
          "output_type": "display_data",
          "data": {
            "text/plain": [
              "<Figure size 432x288 with 1 Axes>"
            ],
            "image/png": "[encoded data removed]"
          },
          "metadata": {}
        }
      ],
      "source": [
        "neg, pos = len(df[df.Target==0]), len(df[df.Target==1])\n",
        "plt.pie([pos, neg], labels=[\"Cancerous\", \"Benign\"], autopct='%1.1f%%')\n",
        "plt.title(\"Cancerous vs Benign samples\")"
      ]
    },
    {
      "cell_type": "code",
      "source": [
        "tmp = df[['Patient', 'Target']]\n",
        "grp = tmp.groupby(by='Patient')\n",
        "tmp = grp.sum()\n",
        "tmp['Total'] = grp.count()['Target']\n",
        "tmp.head()"
      ],
      "metadata": {
        "colab": {
          "base_uri": "https://localhost:8080/",
          "height": 237
        },
        "id": "qrcp9WKPpk6p",
        "outputId": "1a1a1522-c3bc-4e5e-cec3-b51d9f52658a"
      },
      "execution_count": 10,
      "outputs": [
        {
          "output_type": "execute_result",
          "data": {
            "text/plain": [
              "         Target  Total\n",
              "Patient               \n",
              "10253        70    549\n",
              "10254        76    848\n",
              "10255        91    272\n",
              "10256       117    468\n",
              "10257       208    635"
            ],
            "text/html": [
              "\n",
              "  <div id=\"df-e8bc7f51-f07f-43d1-bea7-dc1504094925\">\n",
              "    <div class=\"colab-df-container\">\n",
              "      <div>\n",
              "<style scoped>\n",
              "    .dataframe tbody tr th:only-of-type {\n",
              "        vertical-align: middle;\n",
              "    }\n",
              "\n",
              "    .dataframe tbody tr th {\n",
              "        vertical-align: top;\n",
              "    }\n",
              "\n",
              "    .dataframe thead th {\n",
              "        text-align: right;\n",
              "    }\n",
              "</style>\n",
              "<table border=\"1\" class=\"dataframe\">\n",
              "  <thead>\n",
              "    <tr style=\"text-align: right;\">\n",
              "      <th></th>\n",
              "      <th>Target</th>\n",
              "      <th>Total</th>\n",
              "    </tr>\n",
              "    <tr>\n",
              "      <th>Patient</th>\n",
              "      <th></th>\n",
              "      <th></th>\n",
              "    </tr>\n",
              "  </thead>\n",
              "  <tbody>\n",
              "    <tr>\n",
              "      <th>10253</th>\n",
              "      <td>70</td>\n",
              "      <td>549</td>\n",
              "    </tr>\n",
              "    <tr>\n",
              "      <th>10254</th>\n",
              "      <td>76</td>\n",
              "      <td>848</td>\n",
              "    </tr>\n",
              "    <tr>\n",
              "      <th>10255</th>\n",
              "      <td>91</td>\n",
              "      <td>272</td>\n",
              "    </tr>\n",
              "    <tr>\n",
              "      <th>10256</th>\n",
              "      <td>117</td>\n",
              "      <td>468</td>\n",
              "    </tr>\n",
              "    <tr>\n",
              "      <th>10257</th>\n",
              "      <td>208</td>\n",
              "      <td>635</td>\n",
              "    </tr>\n",
              "  </tbody>\n",
              "</table>\n",
              "</div>\n",
              "      <button class=\"colab-df-convert\" onclick=\"convertToInteractive('df-e8bc7f51-f07f-43d1-bea7-dc1504094925')\"\n",
              "              title=\"Convert this dataframe to an interactive table.\"\n",
              "              style=\"display:none;\">\n",
              "        \n",
              "  <svg xmlns=\"http://www.w3.org/2000/svg\" height=\"24px\"viewBox=\"0 0 24 24\"\n",
              "       width=\"24px\">\n",
              "    <path d=\"M0 0h24v24H0V0z\" fill=\"none\"/>\n",
              "    <path d=\"M18.56 5.44l.94 2.06.94-2.06 2.06-.94-2.06-.94-.94-2.06-.94 2.06-2.06.94zm-11 1L8.5 8.5l.94-2.06 2.06-.94-2.06-.94L8.5 2.5l-.94 2.06-2.06.94zm10 10l.94 2.06.94-2.06 2.06-.94-2.06-.94-.94-2.06-.94 2.06-2.06.94z\"/><path d=\"M17.41 7.96l-1.37-1.37c-.4-.4-.92-.59-1.43-.59-.52 0-1.04.2-1.43.59L10.3 9.45l-7.72 7.72c-.78.78-.78 2.05 0 2.83L4 21.41c.39.39.9.59 1.41.59.51 0 1.02-.2 1.41-.59l7.78-7.78 2.81-2.81c.8-.78.8-2.07 0-2.86zM5.41 20L4 18.59l7.72-7.72 1.47 1.35L5.41 20z\"/>\n",
              "  </svg>\n",
              "      </button>\n",
              "      \n",
              "  <style>\n",
              "    .colab-df-container {\n",
              "      display:flex;\n",
              "      flex-wrap:wrap;\n",
              "      gap: 12px;\n",
              "    }\n",
              "\n",
              "    .colab-df-convert {\n",
              "      background-color: #E8F0FE;\n",
              "      border: none;\n",
              "      border-radius: 50%;\n",
              "      cursor: pointer;\n",
              "      display: none;\n",
              "      fill: #1967D2;\n",
              "      height: 32px;\n",
              "      padding: 0 0 0 0;\n",
              "      width: 32px;\n",
              "    }\n",
              "\n",
              "    .colab-df-convert:hover {\n",
              "      background-color: #E2EBFA;\n",
              "      box-shadow: 0px 1px 2px rgba(60, 64, 67, 0.3), 0px 1px 3px 1px rgba(60, 64, 67, 0.15);\n",
              "      fill: #174EA6;\n",
              "    }\n",
              "\n",
              "    [theme=dark] .colab-df-convert {\n",
              "      background-color: #3B4455;\n",
              "      fill: #D2E3FC;\n",
              "    }\n",
              "\n",
              "    [theme=dark] .colab-df-convert:hover {\n",
              "      background-color: #434B5C;\n",
              "      box-shadow: 0px 1px 3px 1px rgba(0, 0, 0, 0.15);\n",
              "      filter: drop-shadow(0px 1px 2px rgba(0, 0, 0, 0.3));\n",
              "      fill: #FFFFFF;\n",
              "    }\n",
              "  </style>\n",
              "\n",
              "      <script>\n",
              "        const buttonEl =\n",
              "          document.querySelector('#df-e8bc7f51-f07f-43d1-bea7-dc1504094925 button.colab-df-convert');\n",
              "        buttonEl.style.display =\n",
              "          google.colab.kernel.accessAllowed ? 'block' : 'none';\n",
              "\n",
              "        async function convertToInteractive(key) {\n",
              "          const element = document.querySelector('#df-e8bc7f51-f07f-43d1-bea7-dc1504094925');\n",
              "          const dataTable =\n",
              "            await google.colab.kernel.invokeFunction('convertToInteractive',\n",
              "                                                     [key], {});\n",
              "          if (!dataTable) return;\n",
              "\n",
              "          const docLinkHtml = 'Like what you see? Visit the ' +\n",
              "            '<a target=\"_blank\" href=https://colab.research.google.com/notebooks/data_table.ipynb>data table notebook</a>'\n",
              "            + ' to learn more about interactive tables.';\n",
              "          element.innerHTML = '';\n",
              "          dataTable['output_type'] = 'display_data';\n",
              "          await google.colab.output.renderOutput(dataTable, element);\n",
              "          const docLink = document.createElement('div');\n",
              "          docLink.innerHTML = docLinkHtml;\n",
              "          element.appendChild(docLink);\n",
              "        }\n",
              "      </script>\n",
              "    </div>\n",
              "  </div>\n",
              "  "
            ]
          },
          "metadata": {},
          "execution_count": 10
        }
      ]
    },
    {
      "cell_type": "code",
      "source": [
        "import torchvision.transforms as T\n",
        "def show_img(img):\n",
        "    plt.imshow(T.ToPILImage()(img))"
      ],
      "metadata": {
        "id": "Z0osj84K4Dqv"
      },
      "execution_count": 11,
      "outputs": []
    },
    {
      "cell_type": "markdown",
      "source": [
        "# Dataset"
      ],
      "metadata": {
        "id": "yozntCWfs-LZ"
      }
    },
    {
      "cell_type": "code",
      "source": [
        "from torchvision.io import read_image\n",
        "from torch.utils.data import Dataset\n",
        "import torch\n",
        "\n",
        "class BC_Dataset(Dataset):\n",
        "    def __init__(self, root, transform=None, target_transform=None):\n",
        "        self.images  = []\n",
        "        self.targets = []\n",
        "        self.pids    = []\n",
        "        base_path = root\n",
        "        patients = listdir(base_path)\n",
        "        for pat in tqdm(patients):\n",
        "            for c in [0, 1]:\n",
        "                fold = f'{base_path}/{pat}/{c}/'\n",
        "                imgs = listdir(fold)\n",
        "                self.images += [fold + img for img in imgs]\n",
        "                self.targets += [c]*len(imgs)\n",
        "                self.pids += [pat]*len(imgs)\n",
        "        self.transform = transform\n",
        "        self.target_transform = target_transform\n",
        "\n",
        "    def __len__(self):\n",
        "        return len(self.images)\n",
        "\n",
        "    def __getitem__(self, idx):\n",
        "        image = read_image(self.images[idx])\n",
        "        label = self.targets[idx]\n",
        "        if torch.cuda.is_available():\n",
        "            image = image.to('cuda')\n",
        "        if self.transform:\n",
        "            image = self.transform(image)\n",
        "        if self.target_transform:\n",
        "            label = self.target_transform(label)\n",
        "        return image.float()/255, label"
      ],
      "metadata": {
        "id": "NVnDflADsuKQ"
      },
      "execution_count": 15,
      "outputs": []
    },
    {
      "cell_type": "code",
      "source": [
        "full_set = BC_Dataset(base_path, transform=T.Resize((50,50)))"
      ],
      "metadata": {
        "colab": {
          "base_uri": "https://localhost:8080/"
        },
        "id": "S7wjHlpvvzMU",
        "outputId": "69d98318-03aa-4c26-f485-1e3cffb6f65d"
      },
      "execution_count": 16,
      "outputs": [
        {
          "output_type": "stream",
          "name": "stderr",
          "text": [
            "100%|██████████| 279/279 [00:00<00:00, 1305.49it/s]\n"
          ]
        }
      ]
    },
    {
      "cell_type": "code",
      "source": [
        "full_set[0]"
      ],
      "metadata": {
        "colab": {
          "base_uri": "https://localhost:8080/"
        },
        "id": "1Ww2jGRE8_4f",
        "outputId": "01721798-027f-4448-8123-87f9d23be100"
      },
      "execution_count": 17,
      "outputs": [
        {
          "output_type": "execute_result",
          "data": {
            "text/plain": [
              "(tensor([[[0.9608, 0.9294, 0.8588,  ..., 0.8510, 0.8510, 0.8471],\n",
              "          [0.9098, 0.8902, 0.8431,  ..., 0.7922, 0.8549, 0.8588],\n",
              "          [0.8314, 0.8157, 0.8392,  ..., 0.8039, 0.8196, 0.8392],\n",
              "          ...,\n",
              "          [0.8471, 0.8353, 0.8431,  ..., 0.8314, 0.8549, 0.8824],\n",
              "          [0.8745, 0.8627, 0.8745,  ..., 0.8196, 0.8039, 0.8588],\n",
              "          [0.7451, 0.8118, 0.8745,  ..., 0.9569, 0.9020, 0.8000]],\n",
              " \n",
              "         [[0.9451, 0.8706, 0.6510,  ..., 0.6196, 0.5882, 0.6000],\n",
              "          [0.8078, 0.7647, 0.6824,  ..., 0.5176, 0.6157, 0.5608],\n",
              "          [0.5843, 0.6510, 0.6157,  ..., 0.5686, 0.5961, 0.5961],\n",
              "          ...,\n",
              "          [0.5608, 0.5333, 0.5020,  ..., 0.5451, 0.5961, 0.6275],\n",
              "          [0.5647, 0.5647, 0.5882,  ..., 0.5686, 0.4706, 0.5137],\n",
              "          [0.4706, 0.4824, 0.5490,  ..., 0.9137, 0.7843, 0.5255]],\n",
              " \n",
              "         [[0.9569, 0.9137, 0.7647,  ..., 0.7373, 0.7216, 0.7255],\n",
              "          [0.8667, 0.8549, 0.7804,  ..., 0.6706, 0.7451, 0.7098],\n",
              "          [0.7333, 0.7725, 0.7255,  ..., 0.7137, 0.7255, 0.7333],\n",
              "          ...,\n",
              "          [0.6824, 0.6706, 0.6431,  ..., 0.6980, 0.7216, 0.7451],\n",
              "          [0.7020, 0.6941, 0.7255,  ..., 0.6980, 0.6039, 0.6706],\n",
              "          [0.6431, 0.6471, 0.6863,  ..., 0.9294, 0.8549, 0.6549]]],\n",
              "        device='cuda:0'), 0)"
            ]
          },
          "metadata": {},
          "execution_count": 17
        }
      ]
    },
    {
      "cell_type": "code",
      "source": [
        "show_img(full_set[0][0])"
      ],
      "metadata": {
        "colab": {
          "base_uri": "https://localhost:8080/",
          "height": 267
        },
        "id": "NbBzhV574r6d",
        "outputId": "55cab99c-05d4-4618-ab88-95f534c623de"
      },
      "execution_count": 18,
      "outputs": [
        {
          "output_type": "display_data",
          "data": {
            "text/plain": [
              "<Figure size 432x288 with 1 Axes>"
            ],
            "image/png": "[encoded data removed]"
          },
          "metadata": {
            "needs_background": "light"
          }
        }
      ]
    },
    {
      "cell_type": "code",
      "source": [
        "from torch.utils.data import random_split\n",
        "import torch\n",
        "train_set, valid_set, test_set = random_split(\n",
        "    full_set, \n",
        "    [\n",
        "        int(0.7*len(full_set)), \n",
        "        int(0.2*len(full_set)), \n",
        "        len(full_set)-int(0.7*len(full_set))-int(0.2*len(full_set))], \n",
        "    generator=torch.Generator(device=\"cpu\").manual_seed(42)\n",
        ")\n",
        "[len(_set) for _set in [train_set, valid_set, test_set]]"
      ],
      "metadata": {
        "colab": {
          "base_uri": "https://localhost:8080/"
        },
        "id": "B6jOuZxvyr9S",
        "outputId": "8e812d0e-8d87-480a-d7ca-1bc1b90b0a47"
      },
      "execution_count": 19,
      "outputs": [
        {
          "output_type": "execute_result",
          "data": {
            "text/plain": [
              "[194266, 55504, 27754]"
            ]
          },
          "metadata": {},
          "execution_count": 19
        }
      ]
    },
    {
      "cell_type": "code",
      "source": [
        "device = \"cuda\" if torch.cuda.is_available() else \"cpu\"\n",
        "print(f\"Using {device} device\")"
      ],
      "metadata": {
        "colab": {
          "base_uri": "https://localhost:8080/"
        },
        "id": "3z5F5-gR1Bg7",
        "outputId": "d81e017b-879b-47e5-f745-b8aa57789560"
      },
      "execution_count": 20,
      "outputs": [
        {
          "output_type": "stream",
          "name": "stdout",
          "text": [
            "Using cuda device\n"
          ]
        }
      ]
    },
    {
      "cell_type": "code",
      "source": [
        "from torch.utils.data import DataLoader\n",
        "from torch.utils.data.dataloader import default_collate\n",
        "\n",
        "train_dataloader = DataLoader(train_set, batch_size=50, collate_fn=lambda x: tuple(x_.to(device) for x_ in default_collate(x)))\n",
        "test_dataloader = DataLoader(test_set, batch_size=50, collate_fn=lambda x: tuple(x_.to(device) for x_ in default_collate(x)))"
      ],
      "metadata": {
        "id": "9UX-x4aH2y50"
      },
      "execution_count": 21,
      "outputs": []
    },
    {
      "cell_type": "markdown",
      "source": [
        "# CNN"
      ],
      "metadata": {
        "id": "8d6CNPFaXYHj"
      }
    },
    {
      "cell_type": "code",
      "source": [
        "from torch import nn"
      ],
      "metadata": {
        "id": "7plqL1WHSMRK"
      },
      "execution_count": 22,
      "outputs": []
    },
    {
      "cell_type": "code",
      "source": [
        "ip = torch.rand(3, 50, 50)\n",
        "convo = nn.Conv2d(3, 24, 3)\n",
        "rel = nn.ReLU()\n",
        "pool = nn.MaxPool2d(4)\n",
        "convo(ip).size(), rel(convo(ip)).size(), pool(rel(convo(ip))).size()"
      ],
      "metadata": {
        "colab": {
          "base_uri": "https://localhost:8080/"
        },
        "id": "zlFcR-YzKG3f",
        "outputId": "aa833f9f-adc4-46a5-fff4-c2346d19390a"
      },
      "execution_count": 23,
      "outputs": [
        {
          "output_type": "execute_result",
          "data": {
            "text/plain": [
              "(torch.Size([24, 48, 48]), torch.Size([24, 48, 48]), torch.Size([24, 12, 12]))"
            ]
          },
          "metadata": {},
          "execution_count": 23
        }
      ]
    },
    {
      "cell_type": "code",
      "source": [
        "stk = nn.Sequential(\n",
        "            nn.Conv2d(in_channels=3, out_channels=64, kernel_size=3),\n",
        "            nn.ReLU(),\n",
        "            nn.MaxPool2d(2),\n",
        "            nn.Conv2d(in_channels=64, out_channels=64, kernel_size=3),\n",
        "            nn.ReLU(),\n",
        "            nn.MaxPool2d(2)\n",
        "        )\n",
        "stk(ip).size()"
      ],
      "metadata": {
        "colab": {
          "base_uri": "https://localhost:8080/"
        },
        "id": "TN-QmKnTSJTc",
        "outputId": "ce36c448-489d-4c5c-aa22-1ebdc063395c"
      },
      "execution_count": 24,
      "outputs": [
        {
          "output_type": "execute_result",
          "data": {
            "text/plain": [
              "torch.Size([64, 11, 11])"
            ]
          },
          "metadata": {},
          "execution_count": 24
        }
      ]
    },
    {
      "cell_type": "code",
      "source": [
        "64*11*11"
      ],
      "metadata": {
        "colab": {
          "base_uri": "https://localhost:8080/"
        },
        "id": "vc6ucntSRubd",
        "outputId": "5531b680-633e-4aea-af36-84d15483a981"
      },
      "execution_count": 25,
      "outputs": [
        {
          "output_type": "execute_result",
          "data": {
            "text/plain": [
              "7744"
            ]
          },
          "metadata": {},
          "execution_count": 25
        }
      ]
    },
    {
      "cell_type": "code",
      "source": [
        "class BC_Classifier(nn.Module):\n",
        "    def __init__(self):\n",
        "        super(BC_Classifier, self).__init__()\n",
        "        self.convo_stack = nn.Sequential(\n",
        "            nn.Conv2d(in_channels=3, out_channels=64, kernel_size=3),\n",
        "            nn.ReLU(),\n",
        "            nn.MaxPool2d(2),\n",
        "            nn.Conv2d(in_channels=64, out_channels=64, kernel_size=3),\n",
        "            nn.ReLU(),\n",
        "            nn.MaxPool2d(2)\n",
        "        )\n",
        "        self.flatten = nn.Flatten()\n",
        "        self.linear_relu_stack = nn.Sequential(\n",
        "            nn.Linear(64*11*11, 2000),\n",
        "            nn.ReLU(),\n",
        "            nn.Linear(2000, 200),\n",
        "            nn.ReLU(),\n",
        "            nn.Linear(200, 2),\n",
        "        )\n",
        "\n",
        "    def forward(self, x):\n",
        "        x = self.convo_stack(x)\n",
        "        x = self.flatten(x)\n",
        "        logits = self.linear_relu_stack(x)\n",
        "        return logits"
      ],
      "metadata": {
        "id": "_MA_Gzj5zHvb"
      },
      "execution_count": 26,
      "outputs": []
    },
    {
      "cell_type": "code",
      "source": [
        "model = BC_Classifier().to(device)\n",
        "print(model)"
      ],
      "metadata": {
        "colab": {
          "base_uri": "https://localhost:8080/"
        },
        "id": "XkMi2AqW1Rm8",
        "outputId": "cc92674a-6e5c-419b-9b6c-5657f2a6e7f5"
      },
      "execution_count": 27,
      "outputs": [
        {
          "output_type": "stream",
          "name": "stdout",
          "text": [
            "BC_Classifier(\n",
            "  (convo_stack): Sequential(\n",
            "    (0): Conv2d(3, 64, kernel_size=(3, 3), stride=(1, 1))\n",
            "    (1): ReLU()\n",
            "    (2): MaxPool2d(kernel_size=2, stride=2, padding=0, dilation=1, ceil_mode=False)\n",
            "    (3): Conv2d(64, 64, kernel_size=(3, 3), stride=(1, 1))\n",
            "    (4): ReLU()\n",
            "    (5): MaxPool2d(kernel_size=2, stride=2, padding=0, dilation=1, ceil_mode=False)\n",
            "  )\n",
            "  (flatten): Flatten(start_dim=1, end_dim=-1)\n",
            "  (linear_relu_stack): Sequential(\n",
            "    (0): Linear(in_features=7744, out_features=2000, bias=True)\n",
            "    (1): ReLU()\n",
            "    (2): Linear(in_features=2000, out_features=200, bias=True)\n",
            "    (3): ReLU()\n",
            "    (4): Linear(in_features=200, out_features=2, bias=True)\n",
            "  )\n",
            ")\n"
          ]
        }
      ]
    },
    {
      "cell_type": "code",
      "source": [
        "X = torch.rand(5, 3, 50, 50, device=device)\n",
        "logits = model(X)\n",
        "pred_probab = nn.Softmax(dim=1)(logits)\n",
        "y_pred = pred_probab.argmax(1)\n",
        "print(f\"Predicted class: {y_pred}\")"
      ],
      "metadata": {
        "colab": {
          "base_uri": "https://localhost:8080/"
        },
        "id": "M0ZarYVE1Cop",
        "outputId": "71ae1753-c1df-4f73-8a19-607a5f501411"
      },
      "execution_count": 28,
      "outputs": [
        {
          "output_type": "stream",
          "name": "stdout",
          "text": [
            "Predicted class: tensor([0, 0, 0, 0, 0], device='cuda:0')\n"
          ]
        }
      ]
    },
    {
      "cell_type": "markdown",
      "source": [
        "# Training"
      ],
      "metadata": {
        "id": "G2ca-3UCXh2l"
      }
    },
    {
      "cell_type": "code",
      "source": [
        "def train_loop(dataloader, model, loss_fn, optimizer):\n",
        "    size = len(dataloader.dataset)\n",
        "    for batch, (X, y) in enumerate(dataloader):\n",
        "        # Compute prediction and loss\n",
        "        pred = model(X)\n",
        "        loss = loss_fn(pred, y)\n",
        "\n",
        "        # Backpropagation\n",
        "        optimizer.zero_grad()\n",
        "        loss.backward()\n",
        "        optimizer.step()\n",
        "\n",
        "        if batch % 100 == 0:\n",
        "            loss, current = loss.item(), batch * len(X)\n",
        "            print(f\"loss: {loss:>7f}  [{current:>5d}/{size:>5d}]\")\n",
        "\n",
        "\n",
        "def test_loop(dataloader, model, loss_fn):\n",
        "    size = len(dataloader.dataset)\n",
        "    num_batches = len(dataloader)\n",
        "    test_loss, correct = 0, 0\n",
        "\n",
        "    with torch.no_grad():\n",
        "        for X, y in dataloader:\n",
        "            pred = model(X)\n",
        "            test_loss += loss_fn(pred, y).item()\n",
        "            correct += (pred.argmax(1) == y).type(torch.float).sum().item()\n",
        "\n",
        "    test_loss /= num_batches\n",
        "    correct /= size\n",
        "    print(f\"Test Error: \\n Accuracy: {(100*correct):>0.1f}%, Avg loss: {test_loss:>8f} \\n\")"
      ],
      "metadata": {
        "id": "gcgN0Fe62I51"
      },
      "execution_count": 29,
      "outputs": []
    },
    {
      "cell_type": "code",
      "source": [
        "loss_fn = nn.CrossEntropyLoss()\n",
        "learning_rate = 1e-8\n",
        "optimizer = torch.optim.Adam(model.parameters()) #torch.optim.SGD(model.parameters(), lr=learning_rate)\n",
        "\n",
        "epochs = 1\n",
        "for t in range(epochs):\n",
        "    print(f\"Epoch {t+1}\\n-------------------------------\")\n",
        "    train_loop(train_dataloader, model, loss_fn, optimizer)\n",
        "    test_loop(test_dataloader, model, loss_fn)\n",
        "print(\"Done!\")"
      ],
      "metadata": {
        "colab": {
          "base_uri": "https://localhost:8080/"
        },
        "id": "mfXV3pFd2oHA",
        "outputId": "e35c7f13-c9af-45e3-e16e-81e920a81df2"
      },
      "execution_count": 30,
      "outputs": [
        {
          "output_type": "stream",
          "name": "stdout",
          "text": [
            "Epoch 1\n",
            "-------------------------------\n",
            "loss: 0.680629  [    0/194266]\n",
            "loss: 0.536307  [ 5000/194266]\n",
            "loss: 0.405110  [10000/194266]\n",
            "loss: 0.531963  [15000/194266]\n",
            "loss: 0.409221  [20000/194266]\n",
            "loss: 0.529281  [25000/194266]\n",
            "loss: 0.435012  [30000/194266]\n",
            "loss: 0.348707  [35000/194266]\n",
            "loss: 0.364193  [40000/194266]\n",
            "loss: 0.444976  [45000/194266]\n",
            "loss: 0.489710  [50000/194266]\n",
            "loss: 0.350084  [55000/194266]\n",
            "loss: 0.335820  [60000/194266]\n",
            "loss: 0.355555  [65000/194266]\n",
            "loss: 0.428507  [70000/194266]\n",
            "loss: 0.241325  [75000/194266]\n",
            "loss: 0.441017  [80000/194266]\n",
            "loss: 0.372383  [85000/194266]\n",
            "loss: 0.386338  [90000/194266]\n",
            "loss: 0.378191  [95000/194266]\n",
            "loss: 0.295804  [100000/194266]\n",
            "loss: 0.426819  [105000/194266]\n",
            "loss: 0.412765  [110000/194266]\n",
            "loss: 0.332675  [115000/194266]\n",
            "loss: 0.247232  [120000/194266]\n",
            "loss: 0.284007  [125000/194266]\n",
            "loss: 0.282078  [130000/194266]\n",
            "loss: 0.331784  [135000/194266]\n",
            "loss: 0.392136  [140000/194266]\n",
            "loss: 0.363794  [145000/194266]\n",
            "loss: 0.315375  [150000/194266]\n",
            "loss: 0.316414  [155000/194266]\n",
            "loss: 0.377289  [160000/194266]\n",
            "loss: 0.432649  [165000/194266]\n",
            "loss: 0.370436  [170000/194266]\n",
            "loss: 0.298980  [175000/194266]\n",
            "loss: 0.442727  [180000/194266]\n",
            "loss: 0.370244  [185000/194266]\n",
            "loss: 0.426788  [190000/194266]\n",
            "Test Error: \n",
            " Accuracy: 84.3%, Avg loss: 0.362581 \n",
            "\n",
            "Done!\n"
          ]
        }
      ]
    }
  ],
  "metadata": {
    "colab": {
      "provenance": [],
      "mount_file_id": "1iHi0E0fFHEOJQuAk3qv99euXQ6Qo4Axg",
      "authorship_tag": "ABX9TyOSlHhTOK8IyxzG/H5FDfiD",
      "include_colab_link": true
    },
    "kernelspec": {
      "display_name": "Python 3",
      "name": "python3"
    },
    "language_info": {
      "name": "python"
    },
    "accelerator": "GPU",
    "gpuClass": "standard"
  },
  "nbformat": 4,
  "nbformat_minor": 0
}